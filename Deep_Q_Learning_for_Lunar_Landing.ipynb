{
  "cells": [
    {
      "cell_type": "markdown",
      "metadata": {
        "id": "LbZcI9ZXHl3a"
      },
      "source": [
        "# Deep Q-Learning for Lunar Landing"
      ]
    },
    {
      "cell_type": "code",
      "execution_count": 1,
      "metadata": {
        "id": "dbnq3XpoKa_7",
        "colab": {
          "base_uri": "https://localhost:8080/"
        },
        "outputId": "6b073f9d-f754-4305-f6c0-e5381ca1cb69"
      },
      "outputs": [
        {
          "output_type": "stream",
          "name": "stdout",
          "text": [
            "Collecting gymnasium\n",
            "  Downloading gymnasium-0.29.1-py3-none-any.whl (953 kB)\n",
            "\u001b[2K     \u001b[90m━━━━━━━━━━━━━━━━━━━━━━━━━━━━━━━━━━━━━━━━\u001b[0m \u001b[32m953.9/953.9 kB\u001b[0m \u001b[31m11.0 MB/s\u001b[0m eta \u001b[36m0:00:00\u001b[0m\n",
            "\u001b[?25hRequirement already satisfied: numpy>=1.21.0 in /usr/local/lib/python3.10/dist-packages (from gymnasium) (1.25.2)\n",
            "Requirement already satisfied: cloudpickle>=1.2.0 in /usr/local/lib/python3.10/dist-packages (from gymnasium) (2.2.1)\n",
            "Requirement already satisfied: typing-extensions>=4.3.0 in /usr/local/lib/python3.10/dist-packages (from gymnasium) (4.12.2)\n",
            "Collecting farama-notifications>=0.0.1 (from gymnasium)\n",
            "  Downloading Farama_Notifications-0.0.4-py3-none-any.whl (2.5 kB)\n",
            "Installing collected packages: farama-notifications, gymnasium\n",
            "Successfully installed farama-notifications-0.0.4 gymnasium-0.29.1\n",
            "Requirement already satisfied: gymnasium[accept-rom-license,atari] in /usr/local/lib/python3.10/dist-packages (0.29.1)\n",
            "Requirement already satisfied: numpy>=1.21.0 in /usr/local/lib/python3.10/dist-packages (from gymnasium[accept-rom-license,atari]) (1.25.2)\n",
            "Requirement already satisfied: cloudpickle>=1.2.0 in /usr/local/lib/python3.10/dist-packages (from gymnasium[accept-rom-license,atari]) (2.2.1)\n",
            "Requirement already satisfied: typing-extensions>=4.3.0 in /usr/local/lib/python3.10/dist-packages (from gymnasium[accept-rom-license,atari]) (4.12.2)\n",
            "Requirement already satisfied: farama-notifications>=0.0.1 in /usr/local/lib/python3.10/dist-packages (from gymnasium[accept-rom-license,atari]) (0.0.4)\n",
            "Collecting autorom[accept-rom-license]~=0.4.2 (from gymnasium[accept-rom-license,atari])\n",
            "  Downloading AutoROM-0.4.2-py3-none-any.whl (16 kB)\n",
            "Collecting shimmy[atari]<1.0,>=0.1.0 (from gymnasium[accept-rom-license,atari])\n",
            "  Downloading Shimmy-0.2.1-py3-none-any.whl (25 kB)\n",
            "Requirement already satisfied: click in /usr/local/lib/python3.10/dist-packages (from autorom[accept-rom-license]~=0.4.2->gymnasium[accept-rom-license,atari]) (8.1.7)\n",
            "Requirement already satisfied: requests in /usr/local/lib/python3.10/dist-packages (from autorom[accept-rom-license]~=0.4.2->gymnasium[accept-rom-license,atari]) (2.31.0)\n",
            "Requirement already satisfied: tqdm in /usr/local/lib/python3.10/dist-packages (from autorom[accept-rom-license]~=0.4.2->gymnasium[accept-rom-license,atari]) (4.66.4)\n",
            "Collecting AutoROM.accept-rom-license (from autorom[accept-rom-license]~=0.4.2->gymnasium[accept-rom-license,atari])\n",
            "  Downloading AutoROM.accept-rom-license-0.6.1.tar.gz (434 kB)\n",
            "\u001b[2K     \u001b[90m━━━━━━━━━━━━━━━━━━━━━━━━━━━━━━━━━━━━━━━━\u001b[0m \u001b[32m434.7/434.7 kB\u001b[0m \u001b[31m9.3 MB/s\u001b[0m eta \u001b[36m0:00:00\u001b[0m\n",
            "\u001b[?25h  Installing build dependencies ... \u001b[?25l\u001b[?25hdone\n",
            "  Getting requirements to build wheel ... \u001b[?25l\u001b[?25hdone\n",
            "  Preparing metadata (pyproject.toml) ... \u001b[?25l\u001b[?25hdone\n",
            "Collecting ale-py~=0.8.1 (from shimmy[atari]<1.0,>=0.1.0->gymnasium[accept-rom-license,atari])\n",
            "  Downloading ale_py-0.8.1-cp310-cp310-manylinux_2_17_x86_64.manylinux2014_x86_64.whl (1.7 MB)\n",
            "\u001b[2K     \u001b[90m━━━━━━━━━━━━━━━━━━━━━━━━━━━━━━━━━━━━━━━━\u001b[0m \u001b[32m1.7/1.7 MB\u001b[0m \u001b[31m38.9 MB/s\u001b[0m eta \u001b[36m0:00:00\u001b[0m\n",
            "\u001b[?25hRequirement already satisfied: importlib-resources in /usr/local/lib/python3.10/dist-packages (from ale-py~=0.8.1->shimmy[atari]<1.0,>=0.1.0->gymnasium[accept-rom-license,atari]) (6.4.0)\n",
            "Requirement already satisfied: charset-normalizer<4,>=2 in /usr/local/lib/python3.10/dist-packages (from requests->autorom[accept-rom-license]~=0.4.2->gymnasium[accept-rom-license,atari]) (3.3.2)\n",
            "Requirement already satisfied: idna<4,>=2.5 in /usr/local/lib/python3.10/dist-packages (from requests->autorom[accept-rom-license]~=0.4.2->gymnasium[accept-rom-license,atari]) (3.7)\n",
            "Requirement already satisfied: urllib3<3,>=1.21.1 in /usr/local/lib/python3.10/dist-packages (from requests->autorom[accept-rom-license]~=0.4.2->gymnasium[accept-rom-license,atari]) (2.0.7)\n",
            "Requirement already satisfied: certifi>=2017.4.17 in /usr/local/lib/python3.10/dist-packages (from requests->autorom[accept-rom-license]~=0.4.2->gymnasium[accept-rom-license,atari]) (2024.7.4)\n",
            "Building wheels for collected packages: AutoROM.accept-rom-license\n",
            "  Building wheel for AutoROM.accept-rom-license (pyproject.toml) ... \u001b[?25l\u001b[?25hdone\n",
            "  Created wheel for AutoROM.accept-rom-license: filename=AutoROM.accept_rom_license-0.6.1-py3-none-any.whl size=446664 sha256=975a54c23c10e8822cccde2faad82a369827c3741f1abb78a00fca3af5612dfd\n",
            "  Stored in directory: /root/.cache/pip/wheels/6b/1b/ef/a43ff1a2f1736d5711faa1ba4c1f61be1131b8899e6a057811\n",
            "Successfully built AutoROM.accept-rom-license\n",
            "Installing collected packages: ale-py, shimmy, AutoROM.accept-rom-license, autorom\n",
            "Successfully installed AutoROM.accept-rom-license-0.6.1 ale-py-0.8.1 autorom-0.4.2 shimmy-0.2.1\n",
            "Reading package lists... Done\n",
            "Building dependency tree... Done\n",
            "Reading state information... Done\n",
            "The following additional packages will be installed:\n",
            "  swig4.0\n",
            "Suggested packages:\n",
            "  swig-doc swig-examples swig4.0-examples swig4.0-doc\n",
            "The following NEW packages will be installed:\n",
            "  swig swig4.0\n",
            "0 upgraded, 2 newly installed, 0 to remove and 45 not upgraded.\n",
            "Need to get 1,116 kB of archives.\n",
            "After this operation, 5,542 kB of additional disk space will be used.\n",
            "Get:1 http://archive.ubuntu.com/ubuntu jammy/universe amd64 swig4.0 amd64 4.0.2-1ubuntu1 [1,110 kB]\n",
            "Get:2 http://archive.ubuntu.com/ubuntu jammy/universe amd64 swig all 4.0.2-1ubuntu1 [5,632 B]\n",
            "Fetched 1,116 kB in 0s (4,399 kB/s)\n",
            "Selecting previously unselected package swig4.0.\n",
            "(Reading database ... 123589 files and directories currently installed.)\n",
            "Preparing to unpack .../swig4.0_4.0.2-1ubuntu1_amd64.deb ...\n",
            "Unpacking swig4.0 (4.0.2-1ubuntu1) ...\n",
            "Selecting previously unselected package swig.\n",
            "Preparing to unpack .../swig_4.0.2-1ubuntu1_all.deb ...\n",
            "Unpacking swig (4.0.2-1ubuntu1) ...\n",
            "Setting up swig4.0 (4.0.2-1ubuntu1) ...\n",
            "Setting up swig (4.0.2-1ubuntu1) ...\n",
            "Processing triggers for man-db (2.10.2-1) ...\n",
            "Requirement already satisfied: gymnasium[box2d] in /usr/local/lib/python3.10/dist-packages (0.29.1)\n",
            "Requirement already satisfied: numpy>=1.21.0 in /usr/local/lib/python3.10/dist-packages (from gymnasium[box2d]) (1.25.2)\n",
            "Requirement already satisfied: cloudpickle>=1.2.0 in /usr/local/lib/python3.10/dist-packages (from gymnasium[box2d]) (2.2.1)\n",
            "Requirement already satisfied: typing-extensions>=4.3.0 in /usr/local/lib/python3.10/dist-packages (from gymnasium[box2d]) (4.12.2)\n",
            "Requirement already satisfied: farama-notifications>=0.0.1 in /usr/local/lib/python3.10/dist-packages (from gymnasium[box2d]) (0.0.4)\n",
            "Collecting box2d-py==2.3.5 (from gymnasium[box2d])\n",
            "  Downloading box2d-py-2.3.5.tar.gz (374 kB)\n",
            "\u001b[2K     \u001b[90m━━━━━━━━━━━━━━━━━━━━━━━━━━━━━━━━━━━━━━━━\u001b[0m \u001b[32m374.4/374.4 kB\u001b[0m \u001b[31m6.5 MB/s\u001b[0m eta \u001b[36m0:00:00\u001b[0m\n",
            "\u001b[?25h  Preparing metadata (setup.py) ... \u001b[?25l\u001b[?25hdone\n",
            "Requirement already satisfied: pygame>=2.1.3 in /usr/local/lib/python3.10/dist-packages (from gymnasium[box2d]) (2.6.0)\n",
            "Collecting swig==4.* (from gymnasium[box2d])\n",
            "  Downloading swig-4.2.1-py2.py3-none-manylinux_2_5_x86_64.manylinux1_x86_64.whl (1.9 MB)\n",
            "\u001b[2K     \u001b[90m━━━━━━━━━━━━━━━━━━━━━━━━━━━━━━━━━━━━━━━━\u001b[0m \u001b[32m1.9/1.9 MB\u001b[0m \u001b[31m44.1 MB/s\u001b[0m eta \u001b[36m0:00:00\u001b[0m\n",
            "\u001b[?25hBuilding wheels for collected packages: box2d-py\n",
            "  Building wheel for box2d-py (setup.py) ... \u001b[?25l\u001b[?25hdone\n",
            "  Created wheel for box2d-py: filename=box2d_py-2.3.5-cp310-cp310-linux_x86_64.whl size=2349144 sha256=109157d69f85f0a47ec7497845e2ee31643af856ed485f6fd702a9dd30cb28fb\n",
            "  Stored in directory: /root/.cache/pip/wheels/db/8f/6a/eaaadf056fba10a98d986f6dce954e6201ba3126926fc5ad9e\n",
            "Successfully built box2d-py\n",
            "Installing collected packages: swig, box2d-py\n",
            "Successfully installed box2d-py-2.3.5 swig-4.2.1\n"
          ]
        }
      ],
      "source": [
        "!pip install gymnasium\n",
        "!pip install \"gymnasium[atari, accept-rom-license]\"\n",
        "!apt-get install -y swig\n",
        "!pip install gymnasium[box2d]"
      ]
    },
    {
      "cell_type": "markdown",
      "metadata": {
        "id": "brqiMN3UW9T9"
      },
      "source": [
        "### Importing the libraries"
      ]
    },
    {
      "cell_type": "code",
      "execution_count": 3,
      "metadata": {
        "id": "mZaKXP_aMl9O"
      },
      "outputs": [],
      "source": [
        "import os\n",
        "import random\n",
        "import numpy as np\n",
        "import torch\n",
        "import torch.nn as nn\n",
        "import torch.optim as optim\n",
        "import torch.nn.functional as F\n",
        "import torch.autograd as autograd\n",
        "from torch.autograd import Variable\n",
        "from collections import deque, namedtuple"
      ]
    },
    {
      "cell_type": "markdown",
      "metadata": {
        "id": "EzlDKXvkXzGI"
      },
      "source": [
        "## Building the AI"
      ]
    },
    {
      "cell_type": "markdown",
      "metadata": {
        "id": "UtG6Zc83YYy3"
      },
      "source": [
        "### Creating the architecture of the Neural Network"
      ]
    },
    {
      "cell_type": "code",
      "source": [
        "class Network(nn.Module):\n",
        "\n",
        "  def __init__(self, state_size, action_size, seed = 42):\n",
        "    super(Network, self).__init__()\n",
        "    self.seed = torch.manual_seed(seed)\n",
        "    self.fc1 = nn.Linear(state_size, 64)\n",
        "    self.fc2 = nn.Linear(64, 64)\n",
        "    self.fc3 = nn.Linear(64, action_size)\n",
        "\n",
        "  def forward(self, state):\n",
        "    x = self.fc1(state)\n",
        "    x = F.relu(x)\n",
        "    x = self.fc2(x)\n",
        "    x = F.relu(x)\n",
        "    return self.fc3(x)\n"
      ],
      "metadata": {
        "id": "jB6V4MGx8Yxk"
      },
      "execution_count": 4,
      "outputs": []
    },
    {
      "cell_type": "markdown",
      "metadata": {
        "id": "UxVrBnFWZKb1"
      },
      "source": [
        "##Training the AI"
      ]
    },
    {
      "cell_type": "markdown",
      "metadata": {
        "id": "T364fz9qZb2j"
      },
      "source": [
        "### Setting up the environment"
      ]
    },
    {
      "cell_type": "code",
      "source": [
        "import gymnasium as gym\n",
        "env = gym.make('LunarLander-v2')\n",
        "state_shape = env.observation_space.shape\n",
        "state_size = env.observation_space.shape[0]\n",
        "number_actions = env.action_space.n\n",
        "print('State shape: ', state_shape)\n",
        "print('State size: ', state_size)\n",
        "print('Number of actions: ', number_actions)"
      ],
      "metadata": {
        "colab": {
          "base_uri": "https://localhost:8080/"
        },
        "id": "9oG8KXliYVif",
        "outputId": "b5eb8429-5bf8-4215-f771-9aa162ffbb43"
      },
      "execution_count": 5,
      "outputs": [
        {
          "output_type": "stream",
          "name": "stdout",
          "text": [
            "State shape:  (8,)\n",
            "State size:  8\n",
            "Number of actions:  4\n"
          ]
        }
      ]
    },
    {
      "cell_type": "markdown",
      "metadata": {
        "id": "c_dZmOIvZgj-"
      },
      "source": [
        "### Initializing the hyperparameters"
      ]
    },
    {
      "cell_type": "code",
      "source": [
        "learning_rate = 5e-4\n",
        "minibatch_size = 100\n",
        "discount_factor = 0.99\n",
        "replay_buffer_size = int(1e5)\n",
        "interpolation_parameter = 1e-3"
      ],
      "metadata": {
        "id": "CsJklj2kc-TX",
        "colab": {
          "base_uri": "https://localhost:8080/"
        },
        "outputId": "fbc2448e-1eb6-4d8b-ff06-7bacaf414b52"
      },
      "execution_count": 6,
      "outputs": [
        {
          "output_type": "stream",
          "name": "stderr",
          "text": [
            "/usr/local/lib/python3.10/dist-packages/ipykernel/ipkernel.py:283: DeprecationWarning: `should_run_async` will not call `transform_cell` automatically in the future. Please pass the result to `transformed_cell` argument and any exception that happen during thetransform in `preprocessing_exc_tuple` in IPython 7.17 and above.\n",
            "  and should_run_async(code)\n"
          ]
        }
      ]
    },
    {
      "cell_type": "markdown",
      "metadata": {
        "id": "8hD_Vs-bYnip"
      },
      "source": [
        "### Implementing Experience Replay"
      ]
    },
    {
      "cell_type": "code",
      "source": [
        "class ReplayMemory(object):\n",
        "\n",
        "  def __init__(self, capacity):\n",
        "    self.device = torch.device(\"cuda:0\" if torch.cuda.is_available() else \"cpu\")\n",
        "    self.capacity = capacity\n",
        "    self.memory = []\n",
        "\n",
        "  def push(self, event):\n",
        "    self.memory.append(event)\n",
        "    if len(self.memory) > self.capacity:\n",
        "      del self.memory[0]\n",
        "\n",
        "  def sample(self, batch_size):\n",
        "    experiences = random.sample(self.memory, k = batch_size)\n",
        "    states = torch.from_numpy(np.vstack([e[0] for e in experiences if e is not None])).float().to(self.device)\n",
        "    actions = torch.from_numpy(np.vstack([e[1] for e in experiences if e is not None])).long().to(self.device)\n",
        "    rewards = torch.from_numpy(np.vstack([e[2] for e in experiences if e is not None])).float().to(self.device)\n",
        "    next_states = torch.from_numpy(np.vstack([e[3] for e in experiences if e is not None])).float().to(self.device)\n",
        "    dones = torch.from_numpy(np.vstack([e[4] for e in experiences if e is not None]).astype(np.uint8)).float().to(self.device)\n",
        "    return states, next_states, actions, rewards, dones\n"
      ],
      "metadata": {
        "id": "uc_vECDVeWrV"
      },
      "execution_count": 7,
      "outputs": []
    },
    {
      "cell_type": "markdown",
      "metadata": {
        "id": "JmEkbFbUY6Jt"
      },
      "source": [
        "### Implementing the DQN class"
      ]
    },
    {
      "cell_type": "code",
      "source": [
        "class Agent():\n",
        "\n",
        "  def __init__(self, state_size, action_size):\n",
        "    self.device = torch.device(\"cuda:0\" if torch.cuda.is_available() else \"cpu\")\n",
        "    self.state_size = state_size\n",
        "    self.action_size = action_size\n",
        "    self.local_qnetwork = Network(state_size, action_size).to(self.device)\n",
        "    self.target_qnetwork = Network(state_size, action_size).to(self.device)\n",
        "    self.optimizer = optim.Adam(self.local_qnetwork.parameters(), lr = learning_rate)\n",
        "    self.memory = ReplayMemory(replay_buffer_size)\n",
        "    self.t_step = 0\n",
        "\n",
        "  def step(self, state, action, reward, next_state, done):\n",
        "    self.memory.push((state, action, reward, next_state, done))\n",
        "    self.t_step = (self.t_step + 1) % 4\n",
        "    if self.t_step == 0:\n",
        "      if len(self.memory.memory) > minibatch_size:\n",
        "        experiences = self.memory.sample(100)\n",
        "        self.learn(experiences, discount_factor)\n",
        "\n",
        "  def act(self, state, epsilon = 0.):\n",
        "    state = torch.from_numpy(state).float().unsqueeze(0).to(self.device)\n",
        "    self.local_qnetwork.eval()\n",
        "    with torch.no_grad():\n",
        "      action_values = self.local_qnetwork(state)\n",
        "    self.local_qnetwork.train()\n",
        "    if random.random() > epsilon:\n",
        "      return np.argmax(action_values.cpu().data.numpy())\n",
        "    else:\n",
        "      return random.choice(np.arange(self.action_size))\n",
        "\n",
        "  def learn(self, experiences, discount_factor):\n",
        "    states, next_states, actions, rewards, dones = experiences\n",
        "    next_q_targets = self.target_qnetwork(next_states).detach().max(1)[0].unsqueeze(1)\n",
        "    q_targets = rewards + discount_factor * next_q_targets * (1 - dones)\n",
        "    q_expected = self.local_qnetwork(states).gather(1, actions)\n",
        "    loss = F.mse_loss(q_expected, q_targets)\n",
        "    self.optimizer.zero_grad()\n",
        "    loss.backward()\n",
        "    self.optimizer.step()\n",
        "    self.soft_update(self.local_qnetwork, self.target_qnetwork, interpolation_parameter)\n",
        "\n",
        "  def soft_update(self, local_model, target_model, interpolation_parameter):\n",
        "    for target_param, local_param in zip(target_model.parameters(), local_model.parameters()):\n",
        "      target_param.data.copy_(interpolation_parameter * local_param.data + (1.0 - interpolation_parameter) * target_param.data)\n"
      ],
      "metadata": {
        "id": "I4aTJ6WnxQfL"
      },
      "execution_count": 8,
      "outputs": []
    },
    {
      "cell_type": "markdown",
      "metadata": {
        "id": "o1tZElccZmf6"
      },
      "source": [
        "### Initializing the DQN agent"
      ]
    },
    {
      "cell_type": "code",
      "source": [
        "agent = Agent(state_size, number_actions)"
      ],
      "metadata": {
        "id": "-5D8Sk2GY7sr"
      },
      "execution_count": 9,
      "outputs": []
    },
    {
      "cell_type": "markdown",
      "metadata": {
        "id": "E8v0PtUfaVQp"
      },
      "source": [
        "### Training the DQN agent"
      ]
    },
    {
      "cell_type": "code",
      "source": [
        "number_episodes = 2000\n",
        "maximum_number_timesteps_per_episode = 1000\n",
        "epsilon_starting_value  = 1.0\n",
        "epsilon_ending_value  = 0.01\n",
        "epsilon_decay_value  = 0.995\n",
        "epsilon = epsilon_starting_value\n",
        "scores_on_100_episodes = deque(maxlen = 100)\n",
        "\n",
        "for episode in range(1, number_episodes + 1):\n",
        "  state, _ = env.reset()\n",
        "  score = 0\n",
        "  for t in range(maximum_number_timesteps_per_episode):\n",
        "    action = agent.act(state, epsilon)\n",
        "    next_state, reward, done, _, _ = env.step(action)\n",
        "    agent.step(state, action, reward, next_state, done)\n",
        "    state = next_state\n",
        "    score += reward\n",
        "    if done:\n",
        "      break\n",
        "  scores_on_100_episodes.append(score)\n",
        "  epsilon = max(epsilon_ending_value, epsilon_decay_value * epsilon)\n",
        "  print('\\rEpisode {}\\tAverage Score: {:.2f}'.format(episode, np.mean(scores_on_100_episodes)), end = \"\")\n",
        "  if episode % 100 == 0:\n",
        "    print('\\rEpisode {}\\tAverage Score: {:.2f}'.format(episode, np.mean(scores_on_100_episodes)))\n",
        "  if np.mean(scores_on_100_episodes) >= 200.0:\n",
        "    print('\\nEnvironment solved in {:d} episodes!\\tAverage Score: {:.2f}'.format(episode - 100, np.mean(scores_on_100_episodes)))\n",
        "    torch.save(agent.local_qnetwork.state_dict(), 'checkpoint.pth')\n",
        "    break"
      ],
      "metadata": {
        "id": "ujwwE9u3Z17j",
        "colab": {
          "base_uri": "https://localhost:8080/"
        },
        "outputId": "7001eddd-2700-41d1-d254-467704e1f673"
      },
      "execution_count": 10,
      "outputs": [
        {
          "output_type": "stream",
          "name": "stderr",
          "text": [
            "/usr/local/lib/python3.10/dist-packages/ipykernel/ipkernel.py:283: DeprecationWarning: `should_run_async` will not call `transform_cell` automatically in the future. Please pass the result to `transformed_cell` argument and any exception that happen during thetransform in `preprocessing_exc_tuple` in IPython 7.17 and above.\n",
            "  and should_run_async(code)\n"
          ]
        },
        {
          "output_type": "stream",
          "name": "stdout",
          "text": [
            "Episode 100\tAverage Score: -176.18\n",
            "Episode 200\tAverage Score: -88.54\n",
            "Episode 300\tAverage Score: -30.37\n",
            "Episode 400\tAverage Score: 55.36\n",
            "Episode 500\tAverage Score: 123.92\n",
            "Episode 600\tAverage Score: 132.28\n",
            "Episode 700\tAverage Score: 159.50\n",
            "Episode 792\tAverage Score: 201.47\n",
            "Environment solved in 692 episodes!\tAverage Score: 201.47\n"
          ]
        }
      ]
    },
    {
      "cell_type": "markdown",
      "metadata": {
        "id": "O8CNwdOTcCoP"
      },
      "source": [
        "##Visualizing the results"
      ]
    },
    {
      "cell_type": "code",
      "execution_count": 14,
      "metadata": {
        "id": "cb9nVvU2Okhk",
        "colab": {
          "base_uri": "https://localhost:8080/",
          "height": 459
        },
        "outputId": "1b222854-faf8-41fc-a8c2-e2ca7b3c1576"
      },
      "outputs": [
        {
          "output_type": "stream",
          "name": "stderr",
          "text": [
            "WARNING:imageio_ffmpeg:IMAGEIO FFMPEG_WRITER WARNING: input image is not divisible by macro_block_size=16, resizing from (600, 400) to (608, 400) to ensure video compatibility with most codecs and players. To prevent resizing, make your input image divisible by the macro_block_size or set the macro_block_size to 1 (risking incompatibility).\n"
          ]
        },
        {
          "output_type": "display_data",
          "data": {
            "text/plain": [
              "<IPython.core.display.HTML object>"
            ],
            "text/html": [
              "<video alt=\"test\" autoplay\n",
              "                loop controls style=\"height: 400px;\">\n",
              "                <source src=\"data:video/mp4;base64,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\" type=\"video/mp4\" />\n",
              "             </video>"
            ]
          },
          "metadata": {}
        }
      ],
      "source": [
        "import glob\n",
        "import io\n",
        "import base64\n",
        "import imageio\n",
        "from IPython.display import HTML, display\n",
        "from gym.wrappers.monitoring.video_recorder import VideoRecorder\n",
        "\n",
        "def show_video_of_model(agent, env_name):\n",
        "    env = gym.make(env_name, render_mode='rgb_array')\n",
        "    state, _ = env.reset()\n",
        "    done = False\n",
        "    frames = []\n",
        "    while not done:\n",
        "        frame = env.render()\n",
        "        frames.append(frame)\n",
        "        action = agent.act(state)\n",
        "        state, reward, done, _, _ = env.step(action.item())\n",
        "    env.close()\n",
        "    imageio.mimsave('video.mp4', frames, fps=30)\n",
        "\n",
        "show_video_of_model(agent, 'LunarLander-v2')\n",
        "\n",
        "def show_video():\n",
        "    mp4list = glob.glob('*.mp4')\n",
        "    if len(mp4list) > 0:\n",
        "        mp4 = mp4list[0]\n",
        "        video = io.open(mp4, 'r+b').read()\n",
        "        encoded = base64.b64encode(video)\n",
        "        display(HTML(data='''<video alt=\"test\" autoplay\n",
        "                loop controls style=\"height: 400px;\">\n",
        "                <source src=\"data:video/mp4;base64,{0}\" type=\"video/mp4\" />\n",
        "             </video>'''.format(encoded.decode('ascii'))))\n",
        "    else:\n",
        "        print(\"Could not find video\")\n",
        "\n",
        "show_video()"
      ]
    }
  ],
  "metadata": {
    "colab": {
      "provenance": []
    },
    "kernelspec": {
      "display_name": "Python 3",
      "name": "python3"
    },
    "language_info": {
      "name": "python"
    }
  },
  "nbformat": 4,
  "nbformat_minor": 0
}